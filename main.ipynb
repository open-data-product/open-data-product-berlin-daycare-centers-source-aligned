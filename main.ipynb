{
 "cells": [
  {
   "cell_type": "markdown",
   "id": "8060fdc9",
   "metadata": {},
   "source": [
    "# Berlin Day Care Centers (source-aligned) - Sample Notebook"
   ]
  },
  {
   "cell_type": "markdown",
   "id": "124c0652",
   "metadata": {},
   "source": [
    "## Explore data"
   ]
  },
  {
   "cell_type": "code",
   "execution_count": 1,
   "id": "04cd7d8a",
   "metadata": {
    "execution": {
     "iopub.execute_input": "2025-10-31T13:15:43.185255Z",
     "iopub.status.busy": "2025-10-31T13:15:43.185034Z",
     "iopub.status.idle": "2025-10-31T13:15:43.196181Z",
     "shell.execute_reply": "2025-10-31T13:15:43.195387Z"
    }
   },
   "outputs": [],
   "source": [
    "\n",
    "import pandas as pd        \n",
    "\n",
    "# Read csv file\n",
    "dataframe = pd.read_csv(\"./data/03-gold/berlin-daycare-centers-2025-10-csv/berlin-daycare-centers-2025-10-planning-areas.csv\")\n",
    "            "
   ]
  },
  {
   "cell_type": "code",
   "execution_count": 2,
   "id": "1a84bea0",
   "metadata": {
    "execution": {
     "iopub.execute_input": "2025-10-31T13:15:43.198252Z",
     "iopub.status.busy": "2025-10-31T13:15:43.198096Z",
     "iopub.status.idle": "2025-10-31T13:15:43.208577Z",
     "shell.execute_reply": "2025-10-31T13:15:43.208023Z"
    }
   },
   "outputs": [
    {
     "data": {
      "text/html": [
       "<div>\n",
       "<style scoped>\n",
       "    .dataframe tbody tr th:only-of-type {\n",
       "        vertical-align: middle;\n",
       "    }\n",
       "\n",
       "    .dataframe tbody tr th {\n",
       "        vertical-align: top;\n",
       "    }\n",
       "\n",
       "    .dataframe thead th {\n",
       "        text-align: right;\n",
       "    }\n",
       "</style>\n",
       "<table border=\"1\" class=\"dataframe\">\n",
       "  <thead>\n",
       "    <tr style=\"text-align: right;\">\n",
       "      <th></th>\n",
       "      <th>id</th>\n",
       "      <th>places</th>\n",
       "      <th>daycare_centers</th>\n",
       "    </tr>\n",
       "  </thead>\n",
       "  <tbody>\n",
       "    <tr>\n",
       "      <th>0</th>\n",
       "      <td>1100101</td>\n",
       "      <td>39</td>\n",
       "      <td>1</td>\n",
       "    </tr>\n",
       "    <tr>\n",
       "      <th>1</th>\n",
       "      <td>1100103</td>\n",
       "      <td>429</td>\n",
       "      <td>7</td>\n",
       "    </tr>\n",
       "    <tr>\n",
       "      <th>2</th>\n",
       "      <td>1100104</td>\n",
       "      <td>300</td>\n",
       "      <td>2</td>\n",
       "    </tr>\n",
       "    <tr>\n",
       "      <th>3</th>\n",
       "      <td>1100205</td>\n",
       "      <td>200</td>\n",
       "      <td>2</td>\n",
       "    </tr>\n",
       "    <tr>\n",
       "      <th>4</th>\n",
       "      <td>1100206</td>\n",
       "      <td>180</td>\n",
       "      <td>1</td>\n",
       "    </tr>\n",
       "  </tbody>\n",
       "</table>\n",
       "</div>"
      ],
      "text/plain": [
       "        id  places  daycare_centers\n",
       "0  1100101      39                1\n",
       "1  1100103     429                7\n",
       "2  1100104     300                2\n",
       "3  1100205     200                2\n",
       "4  1100206     180                1"
      ]
     },
     "execution_count": 2,
     "metadata": {},
     "output_type": "execute_result"
    }
   ],
   "source": [
    "\n",
    "# Display 5 first rows\n",
    "dataframe.head()\n",
    "            "
   ]
  },
  {
   "cell_type": "code",
   "execution_count": 3,
   "id": "d5346999",
   "metadata": {
    "execution": {
     "iopub.execute_input": "2025-10-31T13:15:43.209986Z",
     "iopub.status.busy": "2025-10-31T13:15:43.209862Z",
     "iopub.status.idle": "2025-10-31T13:15:43.216832Z",
     "shell.execute_reply": "2025-10-31T13:15:43.216377Z"
    }
   },
   "outputs": [
    {
     "name": "stdout",
     "output_type": "stream",
     "text": [
      "<class 'pandas.core.frame.DataFrame'>\n",
      "RangeIndex: 521 entries, 0 to 520\n",
      "Data columns (total 3 columns):\n",
      " #   Column           Non-Null Count  Dtype\n",
      "---  ------           --------------  -----\n",
      " 0   id               521 non-null    int64\n",
      " 1   places           521 non-null    int64\n",
      " 2   daycare_centers  521 non-null    int64\n",
      "dtypes: int64(3)\n",
      "memory usage: 12.3 KB\n"
     ]
    }
   ],
   "source": [
    "\n",
    "# Display dataframe info\n",
    "dataframe.info()\n",
    "            "
   ]
  },
  {
   "cell_type": "code",
   "execution_count": 4,
   "id": "fef543b9",
   "metadata": {
    "execution": {
     "iopub.execute_input": "2025-10-31T13:15:43.218199Z",
     "iopub.status.busy": "2025-10-31T13:15:43.218109Z",
     "iopub.status.idle": "2025-10-31T13:15:43.225324Z",
     "shell.execute_reply": "2025-10-31T13:15:43.224890Z"
    }
   },
   "outputs": [
    {
     "data": {
      "text/html": [
       "<div>\n",
       "<style scoped>\n",
       "    .dataframe tbody tr th:only-of-type {\n",
       "        vertical-align: middle;\n",
       "    }\n",
       "\n",
       "    .dataframe tbody tr th {\n",
       "        vertical-align: top;\n",
       "    }\n",
       "\n",
       "    .dataframe thead th {\n",
       "        text-align: right;\n",
       "    }\n",
       "</style>\n",
       "<table border=\"1\" class=\"dataframe\">\n",
       "  <thead>\n",
       "    <tr style=\"text-align: right;\">\n",
       "      <th></th>\n",
       "      <th>id</th>\n",
       "      <th>places</th>\n",
       "      <th>daycare_centers</th>\n",
       "    </tr>\n",
       "  </thead>\n",
       "  <tbody>\n",
       "    <tr>\n",
       "      <th>count</th>\n",
       "      <td>5.210000e+02</td>\n",
       "      <td>521.000000</td>\n",
       "      <td>521.000000</td>\n",
       "    </tr>\n",
       "    <tr>\n",
       "      <th>mean</th>\n",
       "      <td>6.585512e+06</td>\n",
       "      <td>379.581574</td>\n",
       "      <td>5.474088</td>\n",
       "    </tr>\n",
       "    <tr>\n",
       "      <th>std</th>\n",
       "      <td>3.381600e+06</td>\n",
       "      <td>217.124941</td>\n",
       "      <td>3.570687</td>\n",
       "    </tr>\n",
       "    <tr>\n",
       "      <th>min</th>\n",
       "      <td>1.100101e+06</td>\n",
       "      <td>15.000000</td>\n",
       "      <td>1.000000</td>\n",
       "    </tr>\n",
       "    <tr>\n",
       "      <th>25%</th>\n",
       "      <td>3.601451e+06</td>\n",
       "      <td>206.000000</td>\n",
       "      <td>3.000000</td>\n",
       "    </tr>\n",
       "    <tr>\n",
       "      <th>50%</th>\n",
       "      <td>6.300634e+06</td>\n",
       "      <td>358.000000</td>\n",
       "      <td>5.000000</td>\n",
       "    </tr>\n",
       "    <tr>\n",
       "      <th>75%</th>\n",
       "      <td>9.401329e+06</td>\n",
       "      <td>512.000000</td>\n",
       "      <td>7.000000</td>\n",
       "    </tr>\n",
       "    <tr>\n",
       "      <th>max</th>\n",
       "      <td>1.260124e+07</td>\n",
       "      <td>1128.000000</td>\n",
       "      <td>21.000000</td>\n",
       "    </tr>\n",
       "  </tbody>\n",
       "</table>\n",
       "</div>"
      ],
      "text/plain": [
       "                 id       places  daycare_centers\n",
       "count  5.210000e+02   521.000000       521.000000\n",
       "mean   6.585512e+06   379.581574         5.474088\n",
       "std    3.381600e+06   217.124941         3.570687\n",
       "min    1.100101e+06    15.000000         1.000000\n",
       "25%    3.601451e+06   206.000000         3.000000\n",
       "50%    6.300634e+06   358.000000         5.000000\n",
       "75%    9.401329e+06   512.000000         7.000000\n",
       "max    1.260124e+07  1128.000000        21.000000"
      ]
     },
     "execution_count": 4,
     "metadata": {},
     "output_type": "execute_result"
    }
   ],
   "source": [
    "\n",
    "# Describe dataframe\n",
    "dataframe.describe()\n",
    "            "
   ]
  }
 ],
 "metadata": {
  "language_info": {
   "codemirror_mode": {
    "name": "ipython",
    "version": 3
   },
   "file_extension": ".py",
   "mimetype": "text/x-python",
   "name": "python",
   "nbconvert_exporter": "python",
   "pygments_lexer": "ipython3",
   "version": "3.13.0"
  }
 },
 "nbformat": 4,
 "nbformat_minor": 5
}
